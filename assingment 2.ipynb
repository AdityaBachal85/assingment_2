{
 "cells": [
  {
   "cell_type": "markdown",
   "id": "27ae794b-4080-4d31-8fd1-60b48ea7e7b2",
   "metadata": {},
   "source": [
    "Q.1\n",
    "\n",
    "Single-line comments: These comments are used to explain a single line of code and start with the # symbol. Anything written after # on the same line is considered a comment.\n",
    "\n",
    "Multi-line comments (Docstrings): Multi-line comments are used to document functions, classes, or modules. They are enclosed within triple quotes, either single (''') or double (\"\"\")."
   ]
  },
  {
   "cell_type": "code",
   "execution_count": null,
   "id": "a02246fb-832f-4f4e-b4fa-44760af9e822",
   "metadata": {},
   "outputs": [],
   "source": [
    "# This is a single-line comment\n",
    "x = 10  # This assigns the value 10 to the variable x\n"
   ]
  },
  {
   "cell_type": "code",
   "execution_count": 3,
   "id": "d1d50234-37cc-4255-904a-a42205711149",
   "metadata": {},
   "outputs": [
    {
     "data": {
      "text/plain": [
       "'\\nThis is also a multi-line comment \\nIt can use double quotes instead of single quotes.\\n'"
      ]
     },
     "execution_count": 3,
     "metadata": {},
     "output_type": "execute_result"
    }
   ],
   "source": [
    "'''\n",
    "This is a multi-line comment \n",
    "It can span across multiple lines.\n",
    "'''\n",
    "\n",
    "\"\"\"\n",
    "This is also a multi-line comment \n",
    "It can use double quotes instead of single quotes.\n",
    "\"\"\"\n"
   ]
  },
  {
   "cell_type": "markdown",
   "id": "8d3d8ada-5206-42f9-b035-f8548c278f62",
   "metadata": {},
   "source": [
    "Q.2\n",
    " ans:- \n",
    " the variables in code are something are which we can subtitue or give values to is \n",
    "for example"
   ]
  },
  {
   "cell_type": "code",
   "execution_count": 4,
   "id": "2490d3da-d821-40bb-bdf5-ef7ba498f15b",
   "metadata": {},
   "outputs": [
    {
     "name": "stdout",
     "output_type": "stream",
     "text": [
      "4\n"
     ]
    }
   ],
   "source": [
    "x=4\n",
    "# here x is an variable and 4 is the given value\n",
    "print(x)"
   ]
  },
  {
   "cell_type": "raw",
   "id": "b5d33dc9-a00f-4b66-af78-2293803c2238",
   "metadata": {},
   "source": [
    "Q.3\n",
    "ans:- the convertion of a data type is \n",
    "if the is an float value eg. x=1.4444\n",
    "we can just write x=int(x)\n",
    "now the value type is int\n"
   ]
  },
  {
   "cell_type": "code",
   "execution_count": 5,
   "id": "4dc8c40f-8c92-4a2f-bf1b-bfc11f5ed28c",
   "metadata": {},
   "outputs": [
    {
     "data": {
      "text/plain": [
       "float"
      ]
     },
     "execution_count": 5,
     "metadata": {},
     "output_type": "execute_result"
    }
   ],
   "source": [
    "x=1.4444\n",
    "# x here is float\n",
    "type(x)"
   ]
  },
  {
   "cell_type": "code",
   "execution_count": 7,
   "id": "fd722ea2-394b-466a-8dba-e7417263405c",
   "metadata": {},
   "outputs": [
    {
     "data": {
      "text/plain": [
       "int"
      ]
     },
     "execution_count": 7,
     "metadata": {},
     "output_type": "execute_result"
    }
   ],
   "source": [
    "x=int(x)\n",
    "type(x)"
   ]
  },
  {
   "cell_type": "markdown",
   "id": "31c80de9-6e23-4d17-b239-4413d2bb7ece",
   "metadata": {},
   "source": [
    "Q.4"
   ]
  },
  {
   "cell_type": "raw",
   "id": "6d921019-7cc8-4f06-88d6-1f915da56d23",
   "metadata": {},
   "source": [
    "Open a text editor (e.g., Notepad, Visual Studio Code, Atom, etc.) and write your Python code. Save the file with a .py extension. For example, you can create a file named myscript.py.\n",
    "\n",
    "In your text editor, write your Python code\n",
    "Save the file myscript.py.\n",
    "\n",
    "Open a command-line interface or terminal on your operating system.\n",
    "In the command line, navigate to the directory where you saved your myscript.py file. You can use the cd command to change directories.\n",
    "Now that you are in the correct directory, you can execute the Python script using the python command, followed by the name of the script\n",
    "Press Enter to run the script, and you should see the output:"
   ]
  },
  {
   "cell_type": "markdown",
   "id": "aea063e5-b3c2-476b-a338-338018e06f16",
   "metadata": {},
   "source": [
    "Q.5 \n"
   ]
  },
  {
   "cell_type": "code",
   "execution_count": 1,
   "id": "06e6d81a-4f43-40b2-86e0-a9a583b3097b",
   "metadata": {},
   "outputs": [
    {
     "name": "stdout",
     "output_type": "stream",
     "text": [
      "[2, 3]\n"
     ]
    }
   ],
   "source": [
    "my_list = [1, 2, 3, 4, 5]\n",
    "sub_list = my_list[1:3]\n",
    "print(sub_list)\n"
   ]
  },
  {
   "cell_type": "markdown",
   "id": "bc33f27b-a741-4f7e-8b56-c669f358bc5a",
   "metadata": {},
   "source": [
    "Q.6\n"
   ]
  },
  {
   "cell_type": "raw",
   "id": "ea174237-82ea-4e8c-a402-a50bc520b1db",
   "metadata": {},
   "source": [
    "In mathematics, a complex number is a number that comprises both a real part and an imaginary part. It's represented in the form \"a + bi,\" where \"a\" is the real part, \"b\" is the imaginary part, and \"i\" is the imaginary unit, defined as the square root of -1."
   ]
  },
  {
   "cell_type": "raw",
   "id": "02439840-32a1-4c54-914d-bd156a23d4c4",
   "metadata": {},
   "source": [
    "In Python, complex numbers are also represented in a similar way. The complex data type is used to create complex number objects. You can create a complex number by specifying the real and imaginary parts using the a + bj syntax, where a is the real part, b is the imaginary part, and j is used instead of i to represent the imaginary unit. Here's an example:"
   ]
  },
  {
   "cell_type": "code",
   "execution_count": 4,
   "id": "fa299a4c-c155-4ebd-86e3-90107397b898",
   "metadata": {},
   "outputs": [
    {
     "name": "stdout",
     "output_type": "stream",
     "text": [
      "(3+4j)\n"
     ]
    }
   ],
   "source": [
    "# Creating a complex number\n",
    "z = 3 + 4j\n",
    "\n",
    "print(z)  # Output: (3+4j)\n"
   ]
  },
  {
   "cell_type": "code",
   "execution_count": 5,
   "id": "fae79e4f-46f4-4967-97a9-abe305d65581",
   "metadata": {},
   "outputs": [
    {
     "name": "stdout",
     "output_type": "stream",
     "text": [
      "(3+1j)\n",
      "(8-1j)\n"
     ]
    }
   ],
   "source": [
    "# Performing operations with complex numbers\n",
    "z1 = 2 + 3j\n",
    "z2 = 1 - 2j\n",
    "\n",
    "# Addition\n",
    "sum_z = z1 + z2\n",
    "print(sum_z)  # Output: (3+1j)\n",
    "\n",
    "# Multiplication\n",
    "product_z = z1 * z2\n",
    "print(product_z)  # Output: (8+1j)\n"
   ]
  },
  {
   "cell_type": "markdown",
   "id": "97674782-1cb0-46dd-a520-66f388f5ac1c",
   "metadata": {},
   "source": [
    "Q.7\n"
   ]
  },
  {
   "cell_type": "markdown",
   "id": "a6f7fb73-a384-44ac-a832-572a076777e1",
   "metadata": {},
   "source": [
    "In Python, you can declare a variable and assign a value to it using a straightforward syntax. To declare a variable named age and assign the value 25 to it, you can do the following:"
   ]
  },
  {
   "cell_type": "code",
   "execution_count": 7,
   "id": "2dd9b757-0cd3-4588-bad0-1b46f0b76a71",
   "metadata": {},
   "outputs": [
    {
     "name": "stdout",
     "output_type": "stream",
     "text": [
      "the age is 25\n"
     ]
    }
   ],
   "source": [
    "age = 25\n",
    "print(\"the age is\",age)\n"
   ]
  },
  {
   "cell_type": "raw",
   "id": "673714a7-334f-41ae-b957-ee6b8eb69983",
   "metadata": {},
   "source": [
    "Q.8 "
   ]
  },
  {
   "cell_type": "markdown",
   "id": "b8a1237c-05c1-48ef-9ac4-b3e9b3ff1713",
   "metadata": {},
   "source": [
    "The variable price in this case belongs to the data type \"float.\" In Python, numbers with decimal points are represented using the \"float\" data type, which stands for floating-point numbers. Floats are used to represent real numbers (numbers with decimal fractions) in computing."
   ]
  },
  {
   "cell_type": "code",
   "execution_count": 9,
   "id": "5b17d344-d61b-49f9-a47e-6d4b7d488d75",
   "metadata": {},
   "outputs": [
    {
     "data": {
      "text/plain": [
       "float"
      ]
     },
     "execution_count": 9,
     "metadata": {},
     "output_type": "execute_result"
    }
   ],
   "source": [
    "price = 9.99\n",
    "type(price)"
   ]
  },
  {
   "cell_type": "markdown",
   "id": "efe55db8-9c27-4be1-828a-9d42dd1992a9",
   "metadata": {},
   "source": [
    "Q.9"
   ]
  },
  {
   "cell_type": "code",
   "execution_count": 1,
   "id": "09b30c95-a8cb-41af-a9d5-496999fed015",
   "metadata": {},
   "outputs": [
    {
     "name": "stdout",
     "output_type": "stream",
     "text": [
      "ADITYA BACHAL\n"
     ]
    }
   ],
   "source": [
    "name = \"ADITYA BACHAL\"\n",
    "print(name)"
   ]
  },
  {
   "cell_type": "markdown",
   "id": "a77dedb0-4c4a-414e-8ddd-d2994abc3cb5",
   "metadata": {},
   "source": [
    "Q.10"
   ]
  },
  {
   "cell_type": "code",
   "execution_count": 2,
   "id": "f7d0ef27-fc61-43dc-a8c7-a041d77ae500",
   "metadata": {},
   "outputs": [
    {
     "name": "stdout",
     "output_type": "stream",
     "text": [
      "World\n"
     ]
    }
   ],
   "source": [
    "original_string = \"Hello, World!\"\n",
    "substring = original_string[7:12]\n",
    "print(substring)\n"
   ]
  },
  {
   "cell_type": "markdown",
   "id": "23e43bb9-55fc-49f3-94dc-33bba1bd2806",
   "metadata": {},
   "source": [
    "Q.11"
   ]
  },
  {
   "cell_type": "code",
   "execution_count": 3,
   "id": "0045c408-3906-48c9-a73e-020f2c24a221",
   "metadata": {},
   "outputs": [],
   "source": [
    "is_student = True  # If you are currently a student\n",
    "# or\n",
    "is_student = False  # If you are not currently a student\n"
   ]
  },
  {
   "cell_type": "code",
   "execution_count": null,
   "id": "3233b6b8-ad90-4cc9-bc05-ed5fb90b0c3e",
   "metadata": {},
   "outputs": [],
   "source": []
  }
 ],
 "metadata": {
  "kernelspec": {
   "display_name": "Python 3 (ipykernel)",
   "language": "python",
   "name": "python3"
  },
  "language_info": {
   "codemirror_mode": {
    "name": "ipython",
    "version": 3
   },
   "file_extension": ".py",
   "mimetype": "text/x-python",
   "name": "python",
   "nbconvert_exporter": "python",
   "pygments_lexer": "ipython3",
   "version": "3.10.8"
  }
 },
 "nbformat": 4,
 "nbformat_minor": 5
}
